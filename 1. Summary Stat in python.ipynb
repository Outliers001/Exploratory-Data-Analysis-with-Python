{
 "cells": [
  {
   "cell_type": "markdown",
   "metadata": {},
   "source": [
    "#### Import relevant libraries"
   ]
  },
  {
   "cell_type": "code",
   "execution_count": 1,
   "metadata": {},
   "outputs": [
    {
     "data": {
      "text/html": [
       "<div>\n",
       "<style scoped>\n",
       "    .dataframe tbody tr th:only-of-type {\n",
       "        vertical-align: middle;\n",
       "    }\n",
       "\n",
       "    .dataframe tbody tr th {\n",
       "        vertical-align: top;\n",
       "    }\n",
       "\n",
       "    .dataframe thead th {\n",
       "        text-align: right;\n",
       "    }\n",
       "</style>\n",
       "<table border=\"1\" class=\"dataframe\">\n",
       "  <thead>\n",
       "    <tr style=\"text-align: right;\">\n",
       "      <th></th>\n",
       "      <th>iso_code</th>\n",
       "      <th>continent</th>\n",
       "      <th>location</th>\n",
       "      <th>date</th>\n",
       "      <th>total_cases</th>\n",
       "      <th>new_cases</th>\n",
       "      <th>new_cases_smoothed</th>\n",
       "      <th>total_deaths</th>\n",
       "      <th>new_deaths</th>\n",
       "      <th>new_deaths_smoothed</th>\n",
       "      <th>...</th>\n",
       "      <th>female_smokers</th>\n",
       "      <th>male_smokers</th>\n",
       "      <th>handwashing_facilities</th>\n",
       "      <th>hospital_beds_per_thousand</th>\n",
       "      <th>life_expectancy</th>\n",
       "      <th>human_development_index</th>\n",
       "      <th>excess_mortality_cumulative_absolute</th>\n",
       "      <th>excess_mortality_cumulative</th>\n",
       "      <th>excess_mortality</th>\n",
       "      <th>excess_mortality_cumulative_per_million</th>\n",
       "    </tr>\n",
       "  </thead>\n",
       "  <tbody>\n",
       "    <tr>\n",
       "      <th>0</th>\n",
       "      <td>AFG</td>\n",
       "      <td>Asia</td>\n",
       "      <td>Afghanistan</td>\n",
       "      <td>24/02/2020</td>\n",
       "      <td>5</td>\n",
       "      <td>5</td>\n",
       "      <td>NaN</td>\n",
       "      <td>NaN</td>\n",
       "      <td>NaN</td>\n",
       "      <td>NaN</td>\n",
       "      <td>...</td>\n",
       "      <td>NaN</td>\n",
       "      <td>NaN</td>\n",
       "      <td>37.746</td>\n",
       "      <td>0.5</td>\n",
       "      <td>64.83</td>\n",
       "      <td>0.511</td>\n",
       "      <td>NaN</td>\n",
       "      <td>NaN</td>\n",
       "      <td>NaN</td>\n",
       "      <td>NaN</td>\n",
       "    </tr>\n",
       "    <tr>\n",
       "      <th>1</th>\n",
       "      <td>AFG</td>\n",
       "      <td>Asia</td>\n",
       "      <td>Afghanistan</td>\n",
       "      <td>25/02/2020</td>\n",
       "      <td>5</td>\n",
       "      <td>0</td>\n",
       "      <td>NaN</td>\n",
       "      <td>NaN</td>\n",
       "      <td>NaN</td>\n",
       "      <td>NaN</td>\n",
       "      <td>...</td>\n",
       "      <td>NaN</td>\n",
       "      <td>NaN</td>\n",
       "      <td>37.746</td>\n",
       "      <td>0.5</td>\n",
       "      <td>64.83</td>\n",
       "      <td>0.511</td>\n",
       "      <td>NaN</td>\n",
       "      <td>NaN</td>\n",
       "      <td>NaN</td>\n",
       "      <td>NaN</td>\n",
       "    </tr>\n",
       "    <tr>\n",
       "      <th>2</th>\n",
       "      <td>AFG</td>\n",
       "      <td>Asia</td>\n",
       "      <td>Afghanistan</td>\n",
       "      <td>26/02/2020</td>\n",
       "      <td>5</td>\n",
       "      <td>0</td>\n",
       "      <td>NaN</td>\n",
       "      <td>NaN</td>\n",
       "      <td>NaN</td>\n",
       "      <td>NaN</td>\n",
       "      <td>...</td>\n",
       "      <td>NaN</td>\n",
       "      <td>NaN</td>\n",
       "      <td>37.746</td>\n",
       "      <td>0.5</td>\n",
       "      <td>64.83</td>\n",
       "      <td>0.511</td>\n",
       "      <td>NaN</td>\n",
       "      <td>NaN</td>\n",
       "      <td>NaN</td>\n",
       "      <td>NaN</td>\n",
       "    </tr>\n",
       "    <tr>\n",
       "      <th>3</th>\n",
       "      <td>AFG</td>\n",
       "      <td>Asia</td>\n",
       "      <td>Afghanistan</td>\n",
       "      <td>27/02/2020</td>\n",
       "      <td>5</td>\n",
       "      <td>0</td>\n",
       "      <td>NaN</td>\n",
       "      <td>NaN</td>\n",
       "      <td>NaN</td>\n",
       "      <td>NaN</td>\n",
       "      <td>...</td>\n",
       "      <td>NaN</td>\n",
       "      <td>NaN</td>\n",
       "      <td>37.746</td>\n",
       "      <td>0.5</td>\n",
       "      <td>64.83</td>\n",
       "      <td>0.511</td>\n",
       "      <td>NaN</td>\n",
       "      <td>NaN</td>\n",
       "      <td>NaN</td>\n",
       "      <td>NaN</td>\n",
       "    </tr>\n",
       "    <tr>\n",
       "      <th>4</th>\n",
       "      <td>AFG</td>\n",
       "      <td>Asia</td>\n",
       "      <td>Afghanistan</td>\n",
       "      <td>28/02/2020</td>\n",
       "      <td>5</td>\n",
       "      <td>0</td>\n",
       "      <td>NaN</td>\n",
       "      <td>NaN</td>\n",
       "      <td>NaN</td>\n",
       "      <td>NaN</td>\n",
       "      <td>...</td>\n",
       "      <td>NaN</td>\n",
       "      <td>NaN</td>\n",
       "      <td>37.746</td>\n",
       "      <td>0.5</td>\n",
       "      <td>64.83</td>\n",
       "      <td>0.511</td>\n",
       "      <td>NaN</td>\n",
       "      <td>NaN</td>\n",
       "      <td>NaN</td>\n",
       "      <td>NaN</td>\n",
       "    </tr>\n",
       "  </tbody>\n",
       "</table>\n",
       "<p>5 rows × 67 columns</p>\n",
       "</div>"
      ],
      "text/plain": [
       "  iso_code continent     location        date  total_cases  new_cases  \\\n",
       "0      AFG      Asia  Afghanistan  24/02/2020            5          5   \n",
       "1      AFG      Asia  Afghanistan  25/02/2020            5          0   \n",
       "2      AFG      Asia  Afghanistan  26/02/2020            5          0   \n",
       "3      AFG      Asia  Afghanistan  27/02/2020            5          0   \n",
       "4      AFG      Asia  Afghanistan  28/02/2020            5          0   \n",
       "\n",
       "   new_cases_smoothed  total_deaths  new_deaths  new_deaths_smoothed  ...  \\\n",
       "0                 NaN           NaN         NaN                  NaN  ...   \n",
       "1                 NaN           NaN         NaN                  NaN  ...   \n",
       "2                 NaN           NaN         NaN                  NaN  ...   \n",
       "3                 NaN           NaN         NaN                  NaN  ...   \n",
       "4                 NaN           NaN         NaN                  NaN  ...   \n",
       "\n",
       "   female_smokers  male_smokers  handwashing_facilities  \\\n",
       "0             NaN           NaN                  37.746   \n",
       "1             NaN           NaN                  37.746   \n",
       "2             NaN           NaN                  37.746   \n",
       "3             NaN           NaN                  37.746   \n",
       "4             NaN           NaN                  37.746   \n",
       "\n",
       "   hospital_beds_per_thousand  life_expectancy  human_development_index  \\\n",
       "0                         0.5            64.83                    0.511   \n",
       "1                         0.5            64.83                    0.511   \n",
       "2                         0.5            64.83                    0.511   \n",
       "3                         0.5            64.83                    0.511   \n",
       "4                         0.5            64.83                    0.511   \n",
       "\n",
       "   excess_mortality_cumulative_absolute  excess_mortality_cumulative  \\\n",
       "0                                   NaN                          NaN   \n",
       "1                                   NaN                          NaN   \n",
       "2                                   NaN                          NaN   \n",
       "3                                   NaN                          NaN   \n",
       "4                                   NaN                          NaN   \n",
       "\n",
       "   excess_mortality  excess_mortality_cumulative_per_million  \n",
       "0               NaN                                      NaN  \n",
       "1               NaN                                      NaN  \n",
       "2               NaN                                      NaN  \n",
       "3               NaN                                      NaN  \n",
       "4               NaN                                      NaN  \n",
       "\n",
       "[5 rows x 67 columns]"
      ]
     },
     "execution_count": 1,
     "metadata": {},
     "output_type": "execute_result"
    }
   ],
   "source": [
    "import numpy as np\n",
    "import pandas as pd\n",
    "from scipy import stats\n",
    "import statistics as stat\n",
    "\n",
    "# Load the dataset\n",
    "covid_data = pd.read_csv(\"data/covid-data.csv\")\n",
    "\n",
    "# Check the first few rows to ensure the data is loaded correctly\n",
    "covid_data.head()"
   ]
  },
  {
   "cell_type": "code",
   "execution_count": 2,
   "metadata": {},
   "outputs": [],
   "source": [
    "covid_data = covid_data[['iso_code','continent','location','date','total_cases','new_cases']]"
   ]
  },
  {
   "cell_type": "code",
   "execution_count": 3,
   "metadata": {},
   "outputs": [
    {
     "data": {
      "text/html": [
       "<div>\n",
       "<style scoped>\n",
       "    .dataframe tbody tr th:only-of-type {\n",
       "        vertical-align: middle;\n",
       "    }\n",
       "\n",
       "    .dataframe tbody tr th {\n",
       "        vertical-align: top;\n",
       "    }\n",
       "\n",
       "    .dataframe thead th {\n",
       "        text-align: right;\n",
       "    }\n",
       "</style>\n",
       "<table border=\"1\" class=\"dataframe\">\n",
       "  <thead>\n",
       "    <tr style=\"text-align: right;\">\n",
       "      <th></th>\n",
       "      <th>iso_code</th>\n",
       "      <th>continent</th>\n",
       "      <th>location</th>\n",
       "      <th>date</th>\n",
       "      <th>total_cases</th>\n",
       "      <th>new_cases</th>\n",
       "    </tr>\n",
       "  </thead>\n",
       "  <tbody>\n",
       "    <tr>\n",
       "      <th>0</th>\n",
       "      <td>AFG</td>\n",
       "      <td>Asia</td>\n",
       "      <td>Afghanistan</td>\n",
       "      <td>24/02/2020</td>\n",
       "      <td>5</td>\n",
       "      <td>5</td>\n",
       "    </tr>\n",
       "    <tr>\n",
       "      <th>1</th>\n",
       "      <td>AFG</td>\n",
       "      <td>Asia</td>\n",
       "      <td>Afghanistan</td>\n",
       "      <td>25/02/2020</td>\n",
       "      <td>5</td>\n",
       "      <td>0</td>\n",
       "    </tr>\n",
       "    <tr>\n",
       "      <th>2</th>\n",
       "      <td>AFG</td>\n",
       "      <td>Asia</td>\n",
       "      <td>Afghanistan</td>\n",
       "      <td>26/02/2020</td>\n",
       "      <td>5</td>\n",
       "      <td>0</td>\n",
       "    </tr>\n",
       "    <tr>\n",
       "      <th>3</th>\n",
       "      <td>AFG</td>\n",
       "      <td>Asia</td>\n",
       "      <td>Afghanistan</td>\n",
       "      <td>27/02/2020</td>\n",
       "      <td>5</td>\n",
       "      <td>0</td>\n",
       "    </tr>\n",
       "    <tr>\n",
       "      <th>4</th>\n",
       "      <td>AFG</td>\n",
       "      <td>Asia</td>\n",
       "      <td>Afghanistan</td>\n",
       "      <td>28/02/2020</td>\n",
       "      <td>5</td>\n",
       "      <td>0</td>\n",
       "    </tr>\n",
       "  </tbody>\n",
       "</table>\n",
       "</div>"
      ],
      "text/plain": [
       "  iso_code continent     location        date  total_cases  new_cases\n",
       "0      AFG      Asia  Afghanistan  24/02/2020            5          5\n",
       "1      AFG      Asia  Afghanistan  25/02/2020            5          0\n",
       "2      AFG      Asia  Afghanistan  26/02/2020            5          0\n",
       "3      AFG      Asia  Afghanistan  27/02/2020            5          0\n",
       "4      AFG      Asia  Afghanistan  28/02/2020            5          0"
      ]
     },
     "execution_count": 3,
     "metadata": {},
     "output_type": "execute_result"
    }
   ],
   "source": [
    "covid_data.head(5)"
   ]
  },
  {
   "cell_type": "code",
   "execution_count": 4,
   "metadata": {},
   "outputs": [
    {
     "data": {
      "text/plain": [
       "iso_code       object\n",
       "continent      object\n",
       "location       object\n",
       "date           object\n",
       "total_cases     int64\n",
       "new_cases       int64\n",
       "dtype: object"
      ]
     },
     "execution_count": 4,
     "metadata": {},
     "output_type": "execute_result"
    }
   ],
   "source": [
    "covid_data.dtypes"
   ]
  },
  {
   "cell_type": "code",
   "execution_count": 5,
   "metadata": {},
   "outputs": [
    {
     "data": {
      "text/plain": [
       "(5818, 6)"
      ]
     },
     "execution_count": 5,
     "metadata": {},
     "output_type": "execute_result"
    }
   ],
   "source": [
    "covid_data.shape"
   ]
  },
  {
   "cell_type": "code",
   "execution_count": 8,
   "metadata": {},
   "outputs": [
    {
     "name": "stdout",
     "output_type": "stream",
     "text": [
      "Pandas Mean:\n",
      " total_cases    3.392399e+06\n",
      "new_cases      8.814366e+03\n",
      "dtype: float64\n",
      "Numpy Mean:\n",
      " total_cases    3.392399e+06\n",
      "new_cases      8.814366e+03\n",
      "dtype: float64\n",
      "Statistics Mean for a specific column:\n",
      " 3392398.6914747334\n"
     ]
    }
   ],
   "source": [
    "# Using pandas\n",
    "mean_pandas = covid_data.mean()\n",
    "\n",
    "# Using numpy\n",
    "mean_numpy = np.mean(covid_data, axis=0)\n",
    "\n",
    "# Using statistics (for a single column, assuming 'column_name' is one of your columns)\n",
    "mean_stat = stat.mean(covid_data['total_cases'])\n",
    "\n",
    "print(\"Pandas Mean:\\n\", mean_pandas)\n",
    "print(\"Numpy Mean:\\n\", mean_numpy)\n",
    "print(\"Statistics Mean for a specific column:\\n\", mean_stat)"
   ]
  },
  {
   "cell_type": "code",
   "execution_count": 7,
   "metadata": {},
   "outputs": [
    {
     "name": "stdout",
     "output_type": "stream",
     "text": [
      "Pandas Mean:\n",
      " total_cases    3.392399e+06\n",
      "new_cases      8.814366e+03\n",
      "dtype: float64\n",
      "Numpy Mean:\n",
      " total_cases    3.392399e+06\n",
      "new_cases      8.814366e+03\n",
      "dtype: float64\n"
     ]
    }
   ],
   "source": [
    "# Using pandas\n",
    "mean_pandas = covid_data[['total_cases', 'new_cases']].mean()\n",
    "\n",
    "# Using numpy\n",
    "mean_numpy = np.mean(covid_data[['total_cases', 'new_cases']], axis=0)\n",
    "\n",
    "print(\"Pandas Mean:\\n\", mean_pandas)\n",
    "print(\"Numpy Mean:\\n\", mean_numpy)"
   ]
  },
  {
   "cell_type": "code",
   "execution_count": null,
   "metadata": {},
   "outputs": [],
   "source": []
  },
  {
   "cell_type": "code",
   "execution_count": 9,
   "metadata": {},
   "outputs": [
    {
     "ename": "TypeError",
     "evalue": "unsupported operand type(s) for /: 'str' and 'int'",
     "output_type": "error",
     "traceback": [
      "\u001b[1;31m---------------------------------------------------------------------------\u001b[0m",
      "\u001b[1;31mTypeError\u001b[0m                                 Traceback (most recent call last)",
      "\u001b[1;32m<ipython-input-9-5f4035300a44>\u001b[0m in \u001b[0;36m<module>\u001b[1;34m\u001b[0m\n\u001b[0;32m      3\u001b[0m \u001b[1;33m\u001b[0m\u001b[0m\n\u001b[0;32m      4\u001b[0m \u001b[1;31m# Using numpy\u001b[0m\u001b[1;33m\u001b[0m\u001b[1;33m\u001b[0m\u001b[1;33m\u001b[0m\u001b[0m\n\u001b[1;32m----> 5\u001b[1;33m \u001b[0mmedian_numpy\u001b[0m \u001b[1;33m=\u001b[0m \u001b[0mnp\u001b[0m\u001b[1;33m.\u001b[0m\u001b[0mmedian\u001b[0m\u001b[1;33m(\u001b[0m\u001b[0mcovid_data\u001b[0m\u001b[1;33m,\u001b[0m \u001b[0maxis\u001b[0m\u001b[1;33m=\u001b[0m\u001b[1;36m0\u001b[0m\u001b[1;33m)\u001b[0m\u001b[1;33m\u001b[0m\u001b[1;33m\u001b[0m\u001b[0m\n\u001b[0m\u001b[0;32m      6\u001b[0m \u001b[1;33m\u001b[0m\u001b[0m\n\u001b[0;32m      7\u001b[0m \u001b[1;31m# Using statistics\u001b[0m\u001b[1;33m\u001b[0m\u001b[1;33m\u001b[0m\u001b[1;33m\u001b[0m\u001b[0m\n",
      "\u001b[1;32m<__array_function__ internals>\u001b[0m in \u001b[0;36mmedian\u001b[1;34m(*args, **kwargs)\u001b[0m\n",
      "\u001b[1;32m~\\Anaconda3\\lib\\site-packages\\numpy\\lib\\function_base.py\u001b[0m in \u001b[0;36mmedian\u001b[1;34m(a, axis, out, overwrite_input, keepdims)\u001b[0m\n\u001b[0;32m   3654\u001b[0m     \"\"\"\n\u001b[0;32m   3655\u001b[0m     r, k = _ureduce(a, func=_median, axis=axis, out=out,\n\u001b[1;32m-> 3656\u001b[1;33m                     overwrite_input=overwrite_input)\n\u001b[0m\u001b[0;32m   3657\u001b[0m     \u001b[1;32mif\u001b[0m \u001b[0mkeepdims\u001b[0m\u001b[1;33m:\u001b[0m\u001b[1;33m\u001b[0m\u001b[1;33m\u001b[0m\u001b[0m\n\u001b[0;32m   3658\u001b[0m         \u001b[1;32mreturn\u001b[0m \u001b[0mr\u001b[0m\u001b[1;33m.\u001b[0m\u001b[0mreshape\u001b[0m\u001b[1;33m(\u001b[0m\u001b[0mk\u001b[0m\u001b[1;33m)\u001b[0m\u001b[1;33m\u001b[0m\u001b[1;33m\u001b[0m\u001b[0m\n",
      "\u001b[1;32m~\\Anaconda3\\lib\\site-packages\\numpy\\lib\\function_base.py\u001b[0m in \u001b[0;36m_ureduce\u001b[1;34m(a, func, **kwargs)\u001b[0m\n\u001b[0;32m   3562\u001b[0m         \u001b[0mkeepdim\u001b[0m \u001b[1;33m=\u001b[0m \u001b[1;33m(\u001b[0m\u001b[1;36m1\u001b[0m\u001b[1;33m,\u001b[0m\u001b[1;33m)\u001b[0m \u001b[1;33m*\u001b[0m \u001b[0ma\u001b[0m\u001b[1;33m.\u001b[0m\u001b[0mndim\u001b[0m\u001b[1;33m\u001b[0m\u001b[1;33m\u001b[0m\u001b[0m\n\u001b[0;32m   3563\u001b[0m \u001b[1;33m\u001b[0m\u001b[0m\n\u001b[1;32m-> 3564\u001b[1;33m     \u001b[0mr\u001b[0m \u001b[1;33m=\u001b[0m \u001b[0mfunc\u001b[0m\u001b[1;33m(\u001b[0m\u001b[0ma\u001b[0m\u001b[1;33m,\u001b[0m \u001b[1;33m**\u001b[0m\u001b[0mkwargs\u001b[0m\u001b[1;33m)\u001b[0m\u001b[1;33m\u001b[0m\u001b[1;33m\u001b[0m\u001b[0m\n\u001b[0m\u001b[0;32m   3565\u001b[0m     \u001b[1;32mreturn\u001b[0m \u001b[0mr\u001b[0m\u001b[1;33m,\u001b[0m \u001b[0mkeepdim\u001b[0m\u001b[1;33m\u001b[0m\u001b[1;33m\u001b[0m\u001b[0m\n\u001b[0;32m   3566\u001b[0m \u001b[1;33m\u001b[0m\u001b[0m\n",
      "\u001b[1;32m~\\Anaconda3\\lib\\site-packages\\numpy\\lib\\function_base.py\u001b[0m in \u001b[0;36m_median\u001b[1;34m(a, axis, out, overwrite_input)\u001b[0m\n\u001b[0;32m   3714\u001b[0m         \u001b[1;31m# Use mean in odd and even case to coerce data type\u001b[0m\u001b[1;33m\u001b[0m\u001b[1;33m\u001b[0m\u001b[1;33m\u001b[0m\u001b[0m\n\u001b[0;32m   3715\u001b[0m         \u001b[1;31m# and check, use out array.\u001b[0m\u001b[1;33m\u001b[0m\u001b[1;33m\u001b[0m\u001b[1;33m\u001b[0m\u001b[0m\n\u001b[1;32m-> 3716\u001b[1;33m         \u001b[1;32mreturn\u001b[0m \u001b[0mmean\u001b[0m\u001b[1;33m(\u001b[0m\u001b[0mpart\u001b[0m\u001b[1;33m[\u001b[0m\u001b[0mindexer\u001b[0m\u001b[1;33m]\u001b[0m\u001b[1;33m,\u001b[0m \u001b[0maxis\u001b[0m\u001b[1;33m=\u001b[0m\u001b[0maxis\u001b[0m\u001b[1;33m,\u001b[0m \u001b[0mout\u001b[0m\u001b[1;33m=\u001b[0m\u001b[0mout\u001b[0m\u001b[1;33m)\u001b[0m\u001b[1;33m\u001b[0m\u001b[1;33m\u001b[0m\u001b[0m\n\u001b[0m\u001b[0;32m   3717\u001b[0m \u001b[1;33m\u001b[0m\u001b[0m\n\u001b[0;32m   3718\u001b[0m \u001b[1;33m\u001b[0m\u001b[0m\n",
      "\u001b[1;32m<__array_function__ internals>\u001b[0m in \u001b[0;36mmean\u001b[1;34m(*args, **kwargs)\u001b[0m\n",
      "\u001b[1;32m~\\Anaconda3\\lib\\site-packages\\numpy\\core\\fromnumeric.py\u001b[0m in \u001b[0;36mmean\u001b[1;34m(a, axis, dtype, out, keepdims, where)\u001b[0m\n\u001b[0;32m   3439\u001b[0m \u001b[1;33m\u001b[0m\u001b[0m\n\u001b[0;32m   3440\u001b[0m     return _methods._mean(a, axis=axis, dtype=dtype,\n\u001b[1;32m-> 3441\u001b[1;33m                           out=out, **kwargs)\n\u001b[0m\u001b[0;32m   3442\u001b[0m \u001b[1;33m\u001b[0m\u001b[0m\n\u001b[0;32m   3443\u001b[0m \u001b[1;33m\u001b[0m\u001b[0m\n",
      "\u001b[1;32m~\\Anaconda3\\lib\\site-packages\\numpy\\core\\_methods.py\u001b[0m in \u001b[0;36m_mean\u001b[1;34m(a, axis, dtype, out, keepdims, where)\u001b[0m\n\u001b[0;32m    180\u001b[0m     \u001b[1;32mif\u001b[0m \u001b[0misinstance\u001b[0m\u001b[1;33m(\u001b[0m\u001b[0mret\u001b[0m\u001b[1;33m,\u001b[0m \u001b[0mmu\u001b[0m\u001b[1;33m.\u001b[0m\u001b[0mndarray\u001b[0m\u001b[1;33m)\u001b[0m\u001b[1;33m:\u001b[0m\u001b[1;33m\u001b[0m\u001b[1;33m\u001b[0m\u001b[0m\n\u001b[0;32m    181\u001b[0m         ret = um.true_divide(\n\u001b[1;32m--> 182\u001b[1;33m                 ret, rcount, out=ret, casting='unsafe', subok=False)\n\u001b[0m\u001b[0;32m    183\u001b[0m         \u001b[1;32mif\u001b[0m \u001b[0mis_float16_result\u001b[0m \u001b[1;32mand\u001b[0m \u001b[0mout\u001b[0m \u001b[1;32mis\u001b[0m \u001b[1;32mNone\u001b[0m\u001b[1;33m:\u001b[0m\u001b[1;33m\u001b[0m\u001b[1;33m\u001b[0m\u001b[0m\n\u001b[0;32m    184\u001b[0m             \u001b[0mret\u001b[0m \u001b[1;33m=\u001b[0m \u001b[0marr\u001b[0m\u001b[1;33m.\u001b[0m\u001b[0mdtype\u001b[0m\u001b[1;33m.\u001b[0m\u001b[0mtype\u001b[0m\u001b[1;33m(\u001b[0m\u001b[0mret\u001b[0m\u001b[1;33m)\u001b[0m\u001b[1;33m\u001b[0m\u001b[1;33m\u001b[0m\u001b[0m\n",
      "\u001b[1;31mTypeError\u001b[0m: unsupported operand type(s) for /: 'str' and 'int'"
     ]
    }
   ],
   "source": [
    "# Using pandas\n",
    "median_pandas = covid_data.median()\n",
    "\n",
    "# Using numpy\n",
    "median_numpy = np.median(covid_data, axis=0)\n",
    "\n",
    "# Using statistics\n",
    "median_stat = stat.median(covid_data['total_cases'])\n",
    "\n",
    "print(\"Pandas Median:\\n\", median_pandas)\n",
    "print(\"Numpy Median:\\n\", median_numpy)\n",
    "print(\"Statistics Median for a specific column:\\n\", median_stat)"
   ]
  },
  {
   "cell_type": "code",
   "execution_count": 10,
   "metadata": {},
   "outputs": [
    {
     "name": "stdout",
     "output_type": "stream",
     "text": [
      "Pandas Median:\n",
      " total_cases    176305.0\n",
      "new_cases         261.0\n",
      "dtype: float64\n",
      "Numpy Median:\n",
      " [176305.    261.]\n"
     ]
    }
   ],
   "source": [
    "# Using pandas\n",
    "median_pandas = covid_data[['total_cases', 'new_cases']].median()\n",
    "\n",
    "# Using numpy\n",
    "median_numpy = np.median(covid_data[['total_cases', 'new_cases']], axis=0)\n",
    "\n",
    "print(\"Pandas Median:\\n\", median_pandas)\n",
    "print(\"Numpy Median:\\n\", median_numpy)"
   ]
  },
  {
   "cell_type": "code",
   "execution_count": 17,
   "metadata": {},
   "outputs": [
    {
     "name": "stdout",
     "output_type": "stream",
     "text": [
      "Pandas Mode:\n",
      " 0    1\n",
      "dtype: int64\n",
      "Statistics Mode for a specific column:\n",
      " 1\n"
     ]
    }
   ],
   "source": [
    "# Using pandas\n",
    "mode_pandas = covid_data['total_cases'].mode()\n",
    "\n",
    "# Using statistics\n",
    "mode_stat = stat.mode(covid_data['total_cases'])\n",
    "\n",
    "print(\"Pandas Mode:\\n\", mode_pandas)\n",
    "print(\"Statistics Mode for a specific column:\\n\", mode_stat)"
   ]
  },
  {
   "cell_type": "code",
   "execution_count": 18,
   "metadata": {},
   "outputs": [
    {
     "name": "stdout",
     "output_type": "stream",
     "text": [
      "Pandas Variance:\n",
      " total_cases    5.837733e+13\n",
      "new_cases      4.513995e+08\n",
      "dtype: float64\n",
      "Numpy Variance:\n",
      " total_cases    5.836730e+13\n",
      "new_cases      4.513219e+08\n",
      "dtype: float64\n",
      "Statistics Variance for a specific column:\n",
      " 58377331856144.664\n"
     ]
    }
   ],
   "source": [
    "# Using pandas\n",
    "variance_pandas = covid_data.var()\n",
    "\n",
    "# Using numpy\n",
    "variance_numpy = np.var(covid_data, axis=0)\n",
    "\n",
    "# Using statistics\n",
    "variance_stat = stat.variance(covid_data['total_cases'])\n",
    "\n",
    "print(\"Pandas Variance:\\n\", variance_pandas)\n",
    "print(\"Numpy Variance:\\n\", variance_numpy)\n",
    "print(\"Statistics Variance for a specific column:\\n\", variance_stat)"
   ]
  },
  {
   "cell_type": "code",
   "execution_count": 19,
   "metadata": {},
   "outputs": [
    {
     "name": "stdout",
     "output_type": "stream",
     "text": [
      "Pandas Standard Deviation:\n",
      " total_cases    7.640506e+06\n",
      "new_cases      2.124616e+04\n",
      "dtype: float64\n",
      "Numpy Standard Deviation:\n",
      " total_cases    7.639849e+06\n",
      "new_cases      2.124434e+04\n",
      "dtype: float64\n",
      "Statistics Standard Deviation for a specific column:\n",
      " 7640505.994771856\n"
     ]
    }
   ],
   "source": [
    "# Using pandas\n",
    "std_pandas = covid_data.std()\n",
    "\n",
    "# Using numpy\n",
    "std_numpy = np.std(covid_data, axis=0)\n",
    "\n",
    "# Using statistics\n",
    "std_stat = stat.stdev(covid_data['total_cases'])\n",
    "\n",
    "print(\"Pandas Standard Deviation:\\n\", std_pandas)\n",
    "print(\"Numpy Standard Deviation:\\n\", std_numpy)\n",
    "print(\"Statistics Standard Deviation for a specific column:\\n\", std_stat)"
   ]
  },
  {
   "cell_type": "code",
   "execution_count": 21,
   "metadata": {},
   "outputs": [
    {
     "name": "stdout",
     "output_type": "stream",
     "text": [
      "Scipy Skewness:\n",
      " total_cases    2.742075\n",
      "new_cases      4.270346\n",
      "dtype: float64\n"
     ]
    }
   ],
   "source": [
    "# Using scipy\n",
    "skewness_scipy = covid_data[['total_cases', 'new_cases']].apply(lambda x: stats.skew(x.dropna()))\n",
    "\n",
    "print(\"Scipy Skewness:\\n\", skewness_scipy)\n",
    "\n"
   ]
  },
  {
   "cell_type": "code",
   "execution_count": 22,
   "metadata": {},
   "outputs": [
    {
     "name": "stdout",
     "output_type": "stream",
     "text": [
      "Scipy Kurtosis:\n",
      " total_cases     6.669474\n",
      "new_cases      27.763556\n",
      "dtype: float64\n"
     ]
    }
   ],
   "source": [
    "# Using scipy\n",
    "kurtosis_scipy = covid_data[['total_cases', 'new_cases']].apply(lambda x: stats.kurtosis(x.dropna()))\n",
    "\n",
    "print(\"Scipy Kurtosis:\\n\", kurtosis_scipy)\n"
   ]
  },
  {
   "cell_type": "code",
   "execution_count": 23,
   "metadata": {},
   "outputs": [
    {
     "name": "stdout",
     "output_type": "stream",
     "text": [
      "Pandas Minimum:\n",
      " total_cases    1\n",
      "new_cases      0\n",
      "dtype: int64\n",
      "Pandas Maximum:\n",
      " total_cases    34724189\n",
      "new_cases        287149\n",
      "dtype: int64\n"
     ]
    }
   ],
   "source": [
    "# Min and Max using pandas\n",
    "min_pandas = covid_data[['total_cases', 'new_cases']].min()\n",
    "max_pandas = covid_data[['total_cases', 'new_cases']].max()\n",
    "\n",
    "print(\"Pandas Minimum:\\n\", min_pandas)\n",
    "print(\"Pandas Maximum:\\n\", max_pandas)\n"
   ]
  },
  {
   "cell_type": "code",
   "execution_count": 24,
   "metadata": {},
   "outputs": [
    {
     "name": "stdout",
     "output_type": "stream",
     "text": [
      "Numpy Percentiles (25th, 50th, 75th):\n",
      "    total_cases  new_cases\n",
      "0      40975.0       24.0\n",
      "1     176305.0      261.0\n",
      "2    1317075.5     3666.0\n"
     ]
    }
   ],
   "source": [
    "# Using numpy\n",
    "percentiles_numpy = covid_data[['total_cases', 'new_cases']].apply(lambda x: np.percentile(x.dropna(), [25, 50, 75]))\n",
    "\n",
    "print(\"Numpy Percentiles (25th, 50th, 75th):\\n\", percentiles_numpy)\n"
   ]
  },
  {
   "cell_type": "code",
   "execution_count": 25,
   "metadata": {},
   "outputs": [
    {
     "name": "stdout",
     "output_type": "stream",
     "text": [
      "Summary Table:\n",
      "         total_cases      new_cases\n",
      "count  5.818000e+03    5818.000000\n",
      "mean   3.392399e+06    8814.365761\n",
      "std    7.640506e+06   21246.164422\n",
      "min    1.000000e+00       0.000000\n",
      "25%    4.097500e+04      24.000000\n",
      "50%    1.763050e+05     261.000000\n",
      "75%    1.317076e+06    3666.000000\n",
      "max    3.472419e+07  287149.000000\n"
     ]
    }
   ],
   "source": [
    "# Using pandas describe function\n",
    "summary_table = covid_data[['total_cases', 'new_cases']].describe()\n",
    "\n",
    "print(\"Summary Table:\\n\", summary_table)\n"
   ]
  },
  {
   "cell_type": "code",
   "execution_count": 26,
   "metadata": {},
   "outputs": [
    {
     "name": "stdout",
     "output_type": "stream",
     "text": [
      "Pandas Interquartile Range (IQR):\n",
      " total_cases    1276100.5\n",
      "new_cases         3642.0\n",
      "dtype: float64\n"
     ]
    }
   ],
   "source": [
    "# Using pandas to calculate the IQR\n",
    "IQR_pandas = covid_data[['total_cases', 'new_cases']].apply(lambda x: np.percentile(x.dropna(), 75) - np.percentile(x.dropna(), 25))\n",
    "\n",
    "print(\"Pandas Interquartile Range (IQR):\\n\", IQR_pandas)\n"
   ]
  },
  {
   "cell_type": "code",
   "execution_count": 27,
   "metadata": {},
   "outputs": [
    {
     "name": "stdout",
     "output_type": "stream",
     "text": [
      "Pandas Correlation:\n",
      "              total_cases  new_cases\n",
      "total_cases     1.000000   0.521164\n",
      "new_cases       0.521164   1.000000\n",
      "Numpy Correlation:\n",
      " [[1.         0.52116444]\n",
      " [0.52116444 1.        ]]\n"
     ]
    }
   ],
   "source": [
    "# Using pandas\n",
    "correlation_pandas = covid_data[['total_cases', 'new_cases']].corr()\n",
    "\n",
    "# Using numpy\n",
    "correlation_numpy = np.corrcoef(covid_data['total_cases'], covid_data['new_cases'])\n",
    "\n",
    "print(\"Pandas Correlation:\\n\", correlation_pandas)\n",
    "print(\"Numpy Correlation:\\n\", correlation_numpy)\n"
   ]
  },
  {
   "cell_type": "code",
   "execution_count": 28,
   "metadata": {},
   "outputs": [
    {
     "name": "stdout",
     "output_type": "stream",
     "text": [
      "Pandas Range:\n",
      " total_cases    34724188\n",
      "new_cases        287149\n",
      "dtype: int64\n"
     ]
    }
   ],
   "source": [
    "# Using pandas\n",
    "range_pandas = covid_data[['total_cases', 'new_cases']].apply(lambda x: x.max() - x.min())\n",
    "\n",
    "print(\"Pandas Range:\\n\", range_pandas)\n"
   ]
  },
  {
   "cell_type": "code",
   "execution_count": 29,
   "metadata": {},
   "outputs": [
    {
     "name": "stdout",
     "output_type": "stream",
     "text": [
      "Pandas Covariance:\n",
      "               total_cases     new_cases\n",
      "total_cases  5.837733e+13  8.460138e+10\n",
      "new_cases    8.460138e+10  4.513995e+08\n"
     ]
    }
   ],
   "source": [
    "# Using pandas\n",
    "covariance_pandas = covid_data[['total_cases', 'new_cases']].cov()\n",
    "\n",
    "print(\"Pandas Covariance:\\n\", covariance_pandas)\n"
   ]
  },
  {
   "cell_type": "code",
   "execution_count": 30,
   "metadata": {},
   "outputs": [
    {
     "name": "stdout",
     "output_type": "stream",
     "text": [
      "Extended Summary Statistics Table:\n",
      "                      Mean    Median      Variance  Standard Deviation  \\\n",
      "total_cases  3.392399e+06  176305.0  5.837733e+13        7.640506e+06   \n",
      "new_cases    8.814366e+03     261.0  4.513995e+08        2.124616e+04   \n",
      "\n",
      "                   IQR  Min       Max     Range  \n",
      "total_cases  1276100.5    1  34724189  34724188  \n",
      "new_cases       3642.0    0    287149    287149  \n"
     ]
    }
   ],
   "source": [
    "summary_extended = pd.DataFrame({\n",
    "    \"Mean\": covid_data[['total_cases', 'new_cases']].mean(),\n",
    "    \"Median\": covid_data[['total_cases', 'new_cases']].median(),\n",
    "    \"Variance\": covid_data[['total_cases', 'new_cases']].var(),\n",
    "    \"Standard Deviation\": covid_data[['total_cases', 'new_cases']].std(),\n",
    "    \"IQR\": covid_data[['total_cases', 'new_cases']].apply(lambda x: np.percentile(x.dropna(), 75) - np.percentile(x.dropna(), 25)),\n",
    "    \"Min\": covid_data[['total_cases', 'new_cases']].min(),\n",
    "    \"Max\": covid_data[['total_cases', 'new_cases']].max(),\n",
    "    \"Range\": covid_data[['total_cases', 'new_cases']].apply(lambda x: x.max() - x.min())\n",
    "})\n",
    "\n",
    "print(\"Extended Summary Statistics Table:\\n\", summary_extended)\n"
   ]
  },
  {
   "cell_type": "code",
   "execution_count": null,
   "metadata": {},
   "outputs": [],
   "source": []
  }
 ],
 "metadata": {
  "kernelspec": {
   "display_name": "Python 3",
   "language": "python",
   "name": "python3"
  },
  "language_info": {
   "codemirror_mode": {
    "name": "ipython",
    "version": 3
   },
   "file_extension": ".py",
   "mimetype": "text/x-python",
   "name": "python",
   "nbconvert_exporter": "python",
   "pygments_lexer": "ipython3",
   "version": "3.7.6"
  }
 },
 "nbformat": 4,
 "nbformat_minor": 4
}
